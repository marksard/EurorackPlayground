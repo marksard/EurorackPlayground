{
 "cells": [
  {
   "cell_type": "code",
   "execution_count": 1,
   "metadata": {},
   "outputs": [
    {
     "name": "stdout",
     "output_type": "stream",
     "text": [
      "result:[[1, 0, 0, 0, 0, 0, 0, 0, 0, 0, 0, 0, 0, 0, 0, 0]]\n"
     ]
    }
   ],
   "source": [
    "def generate_euclidean(onsets, pulses):\n",
    "    front = [[1] for _ in range(onsets)]\n",
    "    back = [[0] for _ in range(pulses - onsets)]\n",
    "    if len(front) <= 0:\n",
    "        return back\n",
    "    return euclid_recursive(front, back)\n",
    "\n",
    "def euclid_recursive(front, back):\n",
    "    # print(front, back)\n",
    "    if (len(back) == 1 and back[0][0] == 1) or len(back) == 0:\n",
    "        return front + back\n",
    "\n",
    "    new_front = []\n",
    "    while front and back:\n",
    "        new_front.append(front.pop() + back.pop())\n",
    "        # print(front, back)\n",
    "    \n",
    "    return euclid_recursive(new_front, front + back)\n",
    "\n",
    "# for j in range(1, 16):\n",
    "#     for i in range(1, j):\n",
    "#         print(f'<{i}, {j}>')\n",
    "#         print(generate_euclidean(i, j))\n",
    "\n",
    "print(f'result:{generate_euclidean(1,16)}')\n",
    "# print(f'result;{generate_euclidean(4,5)}')"
   ]
  }
 ],
 "metadata": {
  "kernelspec": {
   "display_name": "Python 3",
   "language": "python",
   "name": "python3"
  },
  "language_info": {
   "codemirror_mode": {
    "name": "ipython",
    "version": 3
   },
   "file_extension": ".py",
   "mimetype": "text/x-python",
   "name": "python",
   "nbconvert_exporter": "python",
   "pygments_lexer": "ipython3",
   "version": "3.10.11"
  }
 },
 "nbformat": 4,
 "nbformat_minor": 2
}
