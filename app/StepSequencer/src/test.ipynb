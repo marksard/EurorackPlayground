{
 "cells": [
  {
   "cell_type": "code",
   "execution_count": 67,
   "metadata": {},
   "outputs": [
    {
     "name": "stdout",
     "output_type": "stream",
     "text": [
      "left\n",
      "[1, 2, 3, 4, 5, 6, 7, 0]\n",
      "right\n",
      "[7, 0, 1, 2, 3, 4, 5, 6]\n"
     ]
    }
   ],
   "source": [
    "def constrainCyclic(value, min, max):\n",
    "    if (value > max):\n",
    "        return min\n",
    "    if (value < min):\n",
    "        return max\n",
    "    return value\n",
    "\n",
    "# def driftArray(pArray, size, left):\n",
    "#     max_m1 = size - 1\n",
    "#     if left == 1:\n",
    "#         backIndex = 0\n",
    "#         restIndex = max_m1\n",
    "#         rg = range(size)\n",
    "#     else:\n",
    "#         backIndex = max_m1\n",
    "#         restIndex = 0\n",
    "#         rg = range(max_m1, 0, -1)\n",
    "\n",
    "\n",
    "#     backValue = pArray[backIndex]\n",
    "#     for i in rg:\n",
    "#         destIndex = constrainCyclic(i + drift, 0, size -1)\n",
    "#         dst = pArray[destIndex]\n",
    "#         pArray[i] = dst\n",
    "#     pArray[restIndex] = backValue\n",
    "#     return pArray\n",
    "\n",
    "def driftArray(pArray, size, left):\n",
    "    max_m1 = size - 1\n",
    "    if left == 1:\n",
    "        print('left')\n",
    "        backValue = pArray[0]\n",
    "        for i in range(size):\n",
    "            destIndex = constrainCyclic(i + 1, 0, max_m1)\n",
    "            dst = pArray[destIndex]\n",
    "            pArray[i] = dst\n",
    "        pArray[max_m1] = backValue\n",
    "\n",
    "    else:\n",
    "        print('right')\n",
    "        backValue = pArray[max_m1]\n",
    "        for i in range(max_m1, 0, -1):\n",
    "            destIndex = constrainCyclic(i - 1, 0, max_m1)\n",
    "            dst = pArray[destIndex]\n",
    "            pArray[i] = dst \n",
    "\n",
    "        pArray[0] = backValue\n",
    "    \n",
    "    return pArray\n",
    "\n",
    "a = [0,1,2,3,4,5,6,7]\n",
    "print(driftArray(a, 8, 1))\n",
    "a = [0,1,2,3,4,5,6,7]\n",
    "print(driftArray(a, 8, -1))\n",
    "\n"
   ]
  }
 ],
 "metadata": {
  "kernelspec": {
   "display_name": "Python 3",
   "language": "python",
   "name": "python3"
  },
  "language_info": {
   "codemirror_mode": {
    "name": "ipython",
    "version": 3
   },
   "file_extension": ".py",
   "mimetype": "text/x-python",
   "name": "python",
   "nbconvert_exporter": "python",
   "pygments_lexer": "ipython3",
   "version": "3.10.11"
  }
 },
 "nbformat": 4,
 "nbformat_minor": 2
}
